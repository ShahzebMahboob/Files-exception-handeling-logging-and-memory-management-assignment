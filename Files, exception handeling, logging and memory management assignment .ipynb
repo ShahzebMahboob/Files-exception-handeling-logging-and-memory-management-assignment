{
 "cells": [
  {
   "cell_type": "markdown",
   "id": "67d784d8-de10-4efc-83f8-b8225a443769",
   "metadata": {},
   "source": [
    "#Theory Question:-"
   ]
  },
  {
   "cell_type": "code",
   "execution_count": 2,
   "id": "b565f32c-01e3-4a3f-893d-167e05b7a554",
   "metadata": {},
   "outputs": [],
   "source": [
    "#Q1. What is the difference between interpreted and compiled languages.\n",
    "#Ans. The main difference between interpreted and compiled languages lies in how the source code is translated into machine code that a computer can execute:\n",
    "#* Interpreted Languages:-\n",
    "# How it works: Code is translated and executed line-by-line at runtime using an interpreter.\n",
    "# Output: No separate executable; the interpreter runs the source directly.\n",
    "# Performance: Generally slower, but easier to test and debug.\n",
    "# Examples: Python, JavaScript, Ruby, PHP.\n",
    "\n",
    "#* Compiled Languages:-\n",
    "# How it works: The entire program is translated into machine code before execution using a compiler.\n",
    "# Output: Generates a separate executable file (e.g., .exe).\n",
    "# Performance: Typically faster since it's already in machine code.\n",
    "# Examples: C, C++, Rust, Go, Swift."
   ]
  },
  {
   "cell_type": "code",
   "execution_count": 4,
   "id": "5010fa9c-9da1-4953-8c86-14cc3229054c",
   "metadata": {},
   "outputs": [],
   "source": [
    "#Q2. What is exception handling in Python.\n",
    "#Ans. Exception handling in Python is a mechanism that lets you gracefully deal with errors that occur during program execution, so your program doesn't crash unexpectedly.\n",
    "#* An exception is an error that occurs during the execution of a program, such as:\n",
    "# Dividing by zero\n",
    "# Accessing an undefined variable\n",
    "# File not found\n",
    "\n"
   ]
  },
  {
   "cell_type": "code",
   "execution_count": 6,
   "id": "d8a5ec1c-a0fc-4acc-8dfb-7c46d5e193df",
   "metadata": {},
   "outputs": [],
   "source": [
    "#Q3. What is the purpose of the finally block in exception handling?\n",
    "#Ans. The finally block in Python exception handling is used to define code that should always execute, no matter what happens in the try and except blocks — whether an exception occurs, is handled, or not.\n",
    "#* Purpose of finally:\n",
    "# To perform cleanup actions such as:\n",
    "# Closing files\n",
    "# Releasing resources (like database connections)\n",
    "# Logging final status\n",
    "# Resetting variables"
   ]
  },
  {
   "cell_type": "code",
   "execution_count": 8,
   "id": "50b82016-1fed-4ba3-af9a-3cdb86938703",
   "metadata": {},
   "outputs": [],
   "source": [
    "#Q4. What is logging in Python?\n",
    "#Ans. Logging in Python is the process of recording events or messages that happen during the execution of a program. It's commonly used to track errors, monitor program flow, or debug issues — especially in larger or production-level applications.\n",
    "# Better than print() for debugging and diagnostics\n",
    "# Allows different levels of importance (info, warning, error, etc.)\n",
    "# Can write logs to files or external systems\n",
    "# Helps maintain records of runtime behavior.\n",
    "\n"
   ]
  },
  {
   "cell_type": "code",
   "execution_count": 10,
   "id": "d7e8f1d4-9ecb-4d99-9fbd-fda49ce1304b",
   "metadata": {},
   "outputs": [],
   "source": [
    "#Q5. What is the significance of the __del__ method in Python.\n",
    "#Ans. The __del__ method in Python is known as the destructor. It is called automatically when an object is about to be destroyed, typically when there are no more references to it.\n",
    "#* Purpose of __del__:\n",
    "# Used to clean up resources (e.g., close files, release memory or connections) when an object is deleted.\n",
    "# Runs just before Python’s garbage collector deletes the object.\n"
   ]
  },
  {
   "cell_type": "code",
   "execution_count": 12,
   "id": "0920d7d6-bbe1-4003-8dfc-acdc05fffdb0",
   "metadata": {},
   "outputs": [],
   "source": [
    "#Q6. What is the difference between import and from ... import in Python.\n",
    "#Ans. The difference between import and from ... import in Python lies in how you access functions, classes, or variables from a module.\n",
    "#* import:\n",
    "# The import statement in Python is used to include a module so you can access its functions, classes, or variables using the module name as a prefix.\n",
    "\n",
    "#* from ... import:\n",
    "# The from ... import statement is used to import specific components (like functions or classes) directly from a module, allowing you to use them without the module prefix."
   ]
  },
  {
   "cell_type": "code",
   "execution_count": 14,
   "id": "15dacd70-295e-408f-a5d1-ebd83388b535",
   "metadata": {},
   "outputs": [],
   "source": [
    "#Q7. How can you handle multiple exceptions in Python.\n",
    "#Ans. You can handle multiple exceptions in Python by using multiple except blocks or a single except block with a tuple of exceptions. Handling multiple exceptions in Python means writing code that can catch and respond to more than one type of error that might occur during program execution.\n"
   ]
  },
  {
   "cell_type": "code",
   "execution_count": 18,
   "id": "797362ac-54f7-4434-b50c-dccb27e494f9",
   "metadata": {},
   "outputs": [],
   "source": [
    "#Q8. What is the purpose of the with statement when handling files in Python.\n",
    "#Ans. The with statement in Python is used to manage resources like file streams, ensuring that the file is automatically closed after its block of code is executed — even if an error occurs.\n",
    "#* Why Use with for File Handling?\n",
    "# Automatically opens and closes the file\n",
    "# Avoids forgetting to call file.close()\n",
    "# Ensures safe and clean resource management\n",
    "# Improves code readability and reliability"
   ]
  },
  {
   "cell_type": "code",
   "execution_count": 20,
   "id": "f13cbf3a-739b-4ed0-9f69-59673fa44d33",
   "metadata": {},
   "outputs": [],
   "source": [
    "#Q9. What is the difference between multithreading and multiprocessing.\n",
    "#Ans. Here's a clear explanation of the difference between multithreading and multiprocessing:\n",
    "#* Multithreading\n",
    "# What: Runs multiple threads (smaller units of a process) within the same process.\n",
    "# Memory: Threads share the same memory space.\n",
    "# Use case: Great for tasks that are I/O-bound (waiting for file/network/database).\n",
    "# Performance: Because of Python’s Global Interpreter Lock (GIL), CPU-bound tasks don’t get true parallelism with threads.\n",
    "# Example: Handling multiple web requests, reading files, UI responsiveness.\n",
    "\n",
    "#* Multiprocessing\n",
    "# What: Runs multiple processes, each with its own memory space.\n",
    "# Memory: Processes have separate memory; communication is done via inter-process communication (IPC).\n",
    "# Use case: Ideal for CPU-bound tasks (heavy computations) where true parallelism is needed.\n",
    "# Performance: Can utilize multiple CPU cores fully.\n",
    "# Example: Performing heavy mathematical calculations, parallel data processing.\n",
    "\n"
   ]
  },
  {
   "cell_type": "code",
   "execution_count": 22,
   "id": "0fafca9c-81d3-4199-9ae7-378d6d554956",
   "metadata": {},
   "outputs": [],
   "source": [
    "#Q10. What are the advantages of using logging in a program.\n",
    "#Ans. Here are the key advantages of using logging in a program:\n",
    "# Helps in debugging and troubleshooting issues.\n",
    "# Provides a record of program execution.\n",
    "# Supports multiple severity levels (DEBUG, INFO, WARNING, ERROR, CRITICAL).\n",
    "# Can be easily enabled, disabled, or redirected without changing code.\n",
    "# Useful for monitoring long-running applications and services.\n",
    "# Assists in post-mortem analysis after failures.\n",
    "# Improves maintainability by tracking program flow and events."
   ]
  },
  {
   "cell_type": "code",
   "execution_count": 24,
   "id": "39c1fa6a-a6a3-402a-aff4-e641a6646600",
   "metadata": {},
   "outputs": [],
   "source": [
    "#Q11. What is memory management in Python?\n",
    "#Ans. Memory management in Python refers to how the language allocates, uses, and frees memory during the execution of a program."
   ]
  },
  {
   "cell_type": "code",
   "execution_count": 26,
   "id": "48fa2ba4-ad71-4cd0-9a2e-93e9d4a9de12",
   "metadata": {},
   "outputs": [],
   "source": [
    "#Q12. What are the basic steps involved in exception handling in Python?\n",
    "#Ans. Here are the basic steps involved in exception handling in Python:\n",
    "# Write the risky code inside a try block This is the code that might raise an exception.\n",
    "# Handle exceptions in one or more except blocks Specify which exceptions you want to catch and how to respond.\n"
   ]
  },
  {
   "cell_type": "code",
   "execution_count": 28,
   "id": "6aaa3e6b-6b69-4031-8f35-fb26e8706cde",
   "metadata": {},
   "outputs": [],
   "source": [
    "#Q13. Why is memory management important in Python?\n",
    "#Ans. Memory management is important in Python because:\n",
    "# Efficient Resource Use: It ensures that memory is used efficiently, preventing your program from consuming more memory than necessary.\n",
    "# Prevents Memory Leaks: Proper management helps avoid memory leaks where unused objects stay in memory, causing the program to slow down or crash.\n",
    "# Improves Performance: Releasing unused memory promptly allows Python programs to run faster and handle larger data.\n",
    "# Automatic Cleanup: Python’s memory management automates cleanup, freeing developers from manual memory handling and reducing bugs.\n",
    "# Supports Dynamic Typing: Since Python is dynamically typed, memory management adapts to changing object sizes and types during execution.\n",
    "#Enables Long-Running Applications: For servers or services that run continuously, good memory management ensures stability over time."
   ]
  },
  {
   "cell_type": "code",
   "execution_count": 30,
   "id": "f41fbfc7-0867-400c-8d43-1a052e72dbcd",
   "metadata": {},
   "outputs": [],
   "source": [
    "#Q14. What is the role of try and except in exception handling?\n",
    "#Ans. The role of try and except in exception handling is:\n",
    "# try block: It contains the code that might cause an error (exception). Python monitors this block for any exceptions during execution.\n",
    "# except block: It catches and handles the exception if one occurs in the try block, allowing the program to respond appropriately instead of crashing.\n"
   ]
  },
  {
   "cell_type": "code",
   "execution_count": 32,
   "id": "ca2fa7f6-356e-4af0-8333-23f1a38d6fc8",
   "metadata": {},
   "outputs": [],
   "source": [
    "#Q15. How does Python's garbage collection system work?\n",
    "#Ans. Here are the key points on how Python’s garbage collection works:\n",
    "# Uses reference counting to track the number of references to each object.\n",
    "# Automatically frees objects when their reference count drops to zero.\n",
    "# Has a cyclic garbage collector to detect and clean up reference cycles.\n",
    "# Organizes objects into generations to optimize collection efficiency.\n",
    "# Runs the garbage collector periodically to reclaim memory from unreachable objects."
   ]
  },
  {
   "cell_type": "code",
   "execution_count": 34,
   "id": "5c14a5b1-c5f8-40f0-847f-bf2c137e2f9e",
   "metadata": {},
   "outputs": [],
   "source": [
    "#Q16. What is the purpose of the else block in exception handling?\n",
    "#Ans. The purpose of the else block in exception handling is:\n",
    "# To run code only if no exceptions were raised in the preceding try block.\n",
    "# It allows you to separate the normal execution path from the error handling code.\n",
    "# Helps keep your code cleaner and more readable by isolating what should happen when everything goes well."
   ]
  },
  {
   "cell_type": "code",
   "execution_count": 36,
   "id": "7afd7552-d069-49d9-a8f2-817b8910c430",
   "metadata": {},
   "outputs": [],
   "source": [
    "#Q17. What are the common logging levels in Python?\n",
    "#Ans. Here are the common logging levels in Python, listed from lowest to highest severity:\n",
    "# DEBUG — Detailed information, typically of interest only when diagnosing problems.\n",
    "# INFO — Confirmation that things are working as expected."
   ]
  },
  {
   "cell_type": "code",
   "execution_count": 38,
   "id": "8ed42502-8cf7-4dca-bc13-db0fb91f788b",
   "metadata": {},
   "outputs": [],
   "source": [
    "#Q18. What is the difference between os.fork() and multiprocessing in Python?\n",
    "#Ans. Here’s a clear comparison between os.fork() and the multiprocessing module in Python:\n",
    "#* os.fork():-\n",
    "# What: A low-level system call (available on Unix/Linux) that creates a new child process by duplicating the current process.\n",
    "# How: The child process is an exact copy of the parent (memory, file descriptors, etc.).\n",
    "# Control: You manually manage processes and communication (e.g., using pipes).\n",
    "# Portability: Not available on Windows.\n",
    "# Use case: Useful for simple process creation on Unix systems; often used in low-level system programming.\n",
    "\n",
    "#* multiprocessing Module\n",
    "# What: A high-level Python module that provides a way to create and manage processes easily.\n",
    "# How: Creates independent processes that run Python functions in parallel.\n",
    "# Control: Offers rich APIs for process management, communication (Queues, Pipes), synchronization, and shared memory.\n",
    "# Portability: Works across multiple platforms (Windows, Linux, macOS).\n",
    "# Use case: Ideal for parallel execution of CPU-bound tasks in a cross-platform way."
   ]
  },
  {
   "cell_type": "code",
   "execution_count": 40,
   "id": "f817095a-b5d3-4a99-9036-e69522d91027",
   "metadata": {},
   "outputs": [],
   "source": [
    "#Q19.  What is the importance of closing a file in Python?\n",
    "#Ans. Here are the points on the importance of closing a file in Python:\n",
    "# Releases system resources like file descriptors.\n",
    "# Ensures all buffered data is written to the file.\n",
    "# Prevents data loss by flushing buffers.\n",
    "# Avoids file corruption.\n",
    "# Allows other programs or processes to access the file.\n",
    "# Helps maintain overall program stability and performance."
   ]
  },
  {
   "cell_type": "code",
   "execution_count": 42,
   "id": "f90ae0d5-3dd5-46e8-9139-8f753e2a0dcf",
   "metadata": {},
   "outputs": [],
   "source": [
    "#Q20. What is the difference between file.read() and file.readline() in Python.\n",
    "#Ans. Here’s the difference between file.read() and file.readline() in Python:\n",
    "\n",
    "#* file.read():-\n",
    "# Reads the entire content of the file (or a specified number of bytes).\n",
    "# Returns the whole content as a single string.\n",
    "# Use when you want to process the whole file at once.\n",
    "\n",
    "#* file.readline()\n",
    "# Reads one line at a time from the file.\n",
    "# Returns a single line as a string, including the newline character (\\n).\n",
    "# Useful for processing files line-by-line, especially large files.\n",
    "\n"
   ]
  },
  {
   "cell_type": "code",
   "execution_count": 44,
   "id": "a911959c-4bf8-4831-914f-160e05eae4be",
   "metadata": {},
   "outputs": [],
   "source": [
    "#Q21. What is the logging module in Python used for?\n",
    "#Ans. The logging module in Python is used for:\n",
    "# Recording events, messages, and errors that happen during program execution.\n",
    "# Helping developers track the flow of a program and diagnose issues.\n",
    "# Providing a flexible system to log messages at different severity levels (DEBUG, INFO, WARNING, ERROR, CRITICAL).\n",
    "# Allowing logs to be sent to different destinations like the console, files, or remote servers.\n",
    "# Enabling easy control over what gets logged and how logs are formatted"
   ]
  },
  {
   "cell_type": "code",
   "execution_count": 46,
   "id": "14406741-a53e-4d47-9ec1-4695755b153c",
   "metadata": {},
   "outputs": [],
   "source": [
    "#Q22. What is the os module in Python used for in file handling?\n",
    "#Ans. The os module in Python is used in file handling to perform operating system-related tasks such as:\n",
    "# Creating, deleting, and renaming files and directories.\n",
    "# Checking file or directory existence with functions like os.path.exists().\n",
    "# Getting file or directory properties, such as size or modification time.\n",
    "# Navigating the filesystem (changing directories, listing files).\n",
    "# Working with file paths in a platform-independent way using os.path.\n",
    "# Handling environment variables related to files and directories."
   ]
  },
  {
   "cell_type": "code",
   "execution_count": 48,
   "id": "1f53987f-acc1-4a6f-91d7-822aac588012",
   "metadata": {},
   "outputs": [],
   "source": [
    "#Q23. What are the challenges associated with memory management in Python?\n",
    "#Ans. Here are the challenges of memory management in Python as points:\n",
    "# Reference cycles causing objects to not be freed automatically.\n",
    "# Memory leaks from lingering references.\n",
    "# Performance overhead due to garbage collection.\n",
    "# Handling large objects and memory fragmentation.\n",
    "# Limited control over low-level memory management.\n",
    "# Differences in memory behavior across platforms."
   ]
  },
  {
   "cell_type": "code",
   "execution_count": 50,
   "id": "96d27e64-e187-4c83-a36f-ca5ada599a25",
   "metadata": {},
   "outputs": [
    {
     "ename": "NameError",
     "evalue": "name 'ExceptionType' is not defined",
     "output_type": "error",
     "traceback": [
      "\u001b[1;31m---------------------------------------------------------------------------\u001b[0m",
      "\u001b[1;31mNameError\u001b[0m                                 Traceback (most recent call last)",
      "Cell \u001b[1;32mIn[50], line 3\u001b[0m\n\u001b[0;32m      1\u001b[0m \u001b[38;5;66;03m#Q24. How do you raise an exception manually in Python?\u001b[39;00m\n\u001b[0;32m      2\u001b[0m \u001b[38;5;66;03m#Ans. You can manually raise an exception in Python using the raise statement.\u001b[39;00m\n\u001b[1;32m----> 3\u001b[0m \u001b[38;5;28;01mraise\u001b[39;00m ExceptionType(\u001b[38;5;124m\"\u001b[39m\u001b[38;5;124mError message\u001b[39m\u001b[38;5;124m\"\u001b[39m)\n",
      "\u001b[1;31mNameError\u001b[0m: name 'ExceptionType' is not defined"
     ]
    }
   ],
   "source": [
    "#Q24. How do you raise an exception manually in Python?\n",
    "#Ans. You can manually raise an exception in Python using the raise statement.\n",
    "raise ExceptionType(\"Error message\")\n"
   ]
  },
  {
   "cell_type": "code",
   "execution_count": 52,
   "id": "b2aa3eb4-37f4-4311-98c8-b04e24368229",
   "metadata": {},
   "outputs": [],
   "source": [
    "#Q25. Why is it important to use multithreading in certain applications?\n",
    "#Ans. Here are the points on why multithreading is important:\n",
    "# Improves application responsiveness (e.g., GUIs).\n",
    "# Efficiently handles I/O-bound operations without blocking.\n",
    "# Enables concurrent execution of tasks.\n",
    "# Simplifies design of parallel tasks.\n",
    "# Utilizes CPU resources better, especially on multi-core systems."
   ]
  },
  {
   "cell_type": "markdown",
   "id": "c4b363b2-5a96-481c-90d4-dda17fe78543",
   "metadata": {},
   "source": [
    "#Practical Questions:-\n"
   ]
  },
  {
   "cell_type": "code",
   "execution_count": 55,
   "id": "bda32481-70f0-4589-a064-969ac49b49f6",
   "metadata": {},
   "outputs": [],
   "source": [
    "#Q1. How can you open a file for writing in Python and write a string to it\n",
    "#Ans. You can open a file for writing in Python using the open() function with mode 'w', and then use the write() method to write a string to it.\n",
    "# Open file in write mode\n",
    "with open('example.txt', 'w') as file:\n",
    "    file.write(\"Hello, world!\")\n"
   ]
  },
  {
   "cell_type": "code",
   "execution_count": 57,
   "id": "d47eabac-5dd3-4f6b-a450-c10b2314aa85",
   "metadata": {},
   "outputs": [
    {
     "name": "stdout",
     "output_type": "stream",
     "text": [
      "Hello, world!\n"
     ]
    }
   ],
   "source": [
    "#Q2. Write a Python program to read the contents of a file and print each line.\n",
    "#Ans. Here’s a simple Python program to read the contents of a file and print each line:\n",
    "# Open the file in read mode\n",
    "with open('example.txt', 'r') as file:\n",
    "    # Read and print each line\n",
    "    for line in file:\n",
    "        print(line.strip())  # strip() removes the newline character\n"
   ]
  },
  {
   "cell_type": "code",
   "execution_count": 59,
   "id": "1f1db230-7ac8-4d0e-a92e-d40741a0204c",
   "metadata": {},
   "outputs": [
    {
     "name": "stdout",
     "output_type": "stream",
     "text": [
      "Error: The file does not exist.\n"
     ]
    }
   ],
   "source": [
    "#Q3. How would you handle a case where the file doesn't exist while trying to open it for reading\n",
    "#Ans. To handle the case where a file doesn’t exist while trying to open it for reading, you can use a try-except block to catch the FileNotFoundError.\n",
    "try:\n",
    "    with open('nonexistent.txt', 'r') as file:\n",
    "        for line in file:\n",
    "            print(line.strip())\n",
    "except FileNotFoundError:\n",
    "    print(\"Error: The file does not exist.\")\n"
   ]
  },
  {
   "cell_type": "code",
   "execution_count": 61,
   "id": "5f2c0982-0147-4d86-85f6-fafae730a8a7",
   "metadata": {},
   "outputs": [
    {
     "name": "stdout",
     "output_type": "stream",
     "text": [
      "Error: source.txt not found.\n"
     ]
    }
   ],
   "source": [
    "#Q4. F Write a Python script that reads from one file and writes its content to another file.\n",
    "#Ans. F Write a Python script that reads from one file and writes its content to another file\n",
    "# Read from source.txt and write to destination.txt\n",
    "try:\n",
    "    with open('source.txt', 'r') as source_file:\n",
    "        content = source_file.read()\n",
    "\n",
    "    with open('destination.txt', 'w') as dest_file:\n",
    "        dest_file.write(content)\n",
    "\n",
    "    print(\"Content copied successfully.\")\n",
    "\n",
    "except FileNotFoundError:\n",
    "    print(\"Error: source.txt not found.\")\n",
    "except Exception as e:\n",
    "    print(\"An error occurred:\", e)\n"
   ]
  },
  {
   "cell_type": "code",
   "execution_count": 63,
   "id": "bb5cfc2d-6a41-4d80-87bd-1ec4351016a6",
   "metadata": {},
   "outputs": [
    {
     "name": "stdout",
     "output_type": "stream",
     "text": [
      "Error: Cannot divide by zero.\n"
     ]
    }
   ],
   "source": [
    "#Q5. How would you catch and handle division by zero error in Python\n",
    "#Ans. You can catch and handle a division by zero error in Python using a try-except block with the ZeroDivisionError exception.\n",
    "try:\n",
    "    a = 10\n",
    "    b = 0\n",
    "    result = a / b\n",
    "    print(\"Result:\", result)\n",
    "except ZeroDivisionError:\n",
    "    print(\"Error: Cannot divide by zero.\")\n"
   ]
  },
  {
   "cell_type": "code",
   "execution_count": 65,
   "id": "70431624-3062-41c3-92d4-71acf951473b",
   "metadata": {},
   "outputs": [
    {
     "name": "stdout",
     "output_type": "stream",
     "text": [
      "An error occurred. Check error.log for details.\n"
     ]
    }
   ],
   "source": [
    "#Q6.Write a Python program that logs an error message to a log file when a division by zero exception occurs.\n",
    "#Ans. Here's a Python program that logs an error message to a log file when a division by zero exception occurs using the logging module:\n",
    "import logging\n",
    "\n",
    "# Configure logging to write to a file\n",
    "logging.basicConfig(\n",
    "    filename='error.log',\n",
    "    level=logging.ERROR,\n",
    "    format='%(asctime)s - %(levelname)s - %(message)s'\n",
    ")\n",
    "\n",
    "# Division operation with error handling\n",
    "try:\n",
    "    a = 10\n",
    "    b = 0\n",
    "    result = a / b\n",
    "    print(\"Result:\", result)\n",
    "\n",
    "except ZeroDivisionError:\n",
    "    logging.error(\"Division by zero occurred.\")\n",
    "    print(\"An error occurred. Check error.log for details.\")\n"
   ]
  },
  {
   "cell_type": "code",
   "execution_count": 67,
   "id": "a0114aae-1b9f-4e83-9fea-5ec8d450fbf4",
   "metadata": {},
   "outputs": [],
   "source": [
    "#Q7. How do you log information at different levels (INFO, ERROR, WARNING) in Python using the logging module\n",
    "#Ans. How do you log information at different levels (INFO, ERROR, WARNING) in Python using the logging module\n",
    "import logging\n",
    "\n",
    "# Configure logging\n",
    "logging.basicConfig(\n",
    "    filename='app.log',\n",
    "    level=logging.DEBUG,  # Set the lowest level to capture all levels\n",
    "    format='%(asctime)s - %(levelname)s - %(message)s'\n",
    ")\n",
    "\n",
    "# Log messages at different levels\n",
    "logging.debug(\"This is a debug message\")\n",
    "logging.info(\"This is an info message\")\n",
    "logging.warning(\"This is a warning\")\n",
    "logging.error(\"This is an error\")\n",
    "logging.critical(\"This is critical\")\n"
   ]
  },
  {
   "cell_type": "code",
   "execution_count": 69,
   "id": "c75eaf67-2d5a-472c-a129-839ab1972cce",
   "metadata": {},
   "outputs": [
    {
     "name": "stdout",
     "output_type": "stream",
     "text": [
      "Error: The file was not found.\n"
     ]
    }
   ],
   "source": [
    "#Q8. Write a program to handle a file opening error using exception handling.\n",
    "#Ans. Here’s a Python program that handles a file opening error using exception handling:\n",
    "# Attempt to open a file and handle any errors\n",
    "try:\n",
    "    file = open(\"nonexistent_file.txt\", \"r\")\n",
    "    content = file.read()\n",
    "    print(content)\n",
    "    file.close()\n",
    "\n",
    "except FileNotFoundError:\n",
    "    print(\"Error: The file was not found.\")\n",
    "\n",
    "except PermissionError:\n",
    "    print(\"Error: You do not have permission to open this file.\")\n",
    "\n",
    "except Exception as e:\n",
    "    print(\"An unexpected error occurred:\", e)\n"
   ]
  },
  {
   "cell_type": "code",
   "execution_count": 71,
   "id": "7a21349e-aef9-436c-9abe-cd000ec367ed",
   "metadata": {},
   "outputs": [
    {
     "name": "stdout",
     "output_type": "stream",
     "text": [
      "['Hello, world!']\n"
     ]
    }
   ],
   "source": [
    "#Q9. How can you read a file line by line and store its content in a list in Python\n",
    "#Ans. You can read a file line by line and store its content in a list using the readlines() method or a loop.\n",
    "with open('example.txt', 'r') as file:\n",
    "    lines = file.readlines()\n",
    "\n",
    "# Strip newline characters\n",
    "lines = [line.strip() for line in lines]\n",
    "\n",
    "print(lines)\n"
   ]
  },
  {
   "cell_type": "code",
   "execution_count": 73,
   "id": "a1d957e1-0ecb-4a5f-882a-3def573667b4",
   "metadata": {},
   "outputs": [],
   "source": [
    "#Q10. How can you append data to an existing file in Python\n",
    "#Ans. To append data to an existing file in Python, open the file in append mode using 'a'. This mode adds content to the end of the file without erasing existing data.\n",
    "with open('example.txt', 'a') as file:\n",
    "    file.write(\"This line will be added to the end.\\n\")\n"
   ]
  },
  {
   "cell_type": "code",
   "execution_count": 75,
   "id": "fa5f22d8-0e4e-4eaa-a78a-5708fa1d8272",
   "metadata": {},
   "outputs": [
    {
     "name": "stdout",
     "output_type": "stream",
     "text": [
      "Name: Alice\n",
      "Error: The key 'city' does not exist in the dictionary.\n"
     ]
    }
   ],
   "source": [
    "#Q11. Write a Python program that uses a try-except block to handle an error when attempting to access a dictionary key that doesn't exist\n",
    "#Ans. Here’s a Python program that uses a try-except block to handle an error when trying to access a non-existent key in a dictionary:\n",
    "# Define a sample dictionary\n",
    "person = {\n",
    "    \"name\": \"Alice\",\n",
    "    \"age\": 30\n",
    "}\n",
    "\n",
    "# Attempt to access a key that might not exist\n",
    "try:\n",
    "    print(\"Name:\", person[\"name\"])\n",
    "    print(\"City:\", person[\"city\"])  # This key doesn't exist\n",
    "except KeyError as e:\n",
    "    print(f\"Error: The key {e} does not exist in the dictionary.\")\n",
    "\n"
   ]
  },
  {
   "cell_type": "code",
   "execution_count": 77,
   "id": "981a09e1-cc6d-4f9a-adde-43c18da21f6e",
   "metadata": {},
   "outputs": [
    {
     "name": "stdin",
     "output_type": "stream",
     "text": [
      "Enter a number:  1\n",
      "Enter another number:  2\n"
     ]
    },
    {
     "name": "stdout",
     "output_type": "stream",
     "text": [
      "Result: 0.5\n"
     ]
    }
   ],
   "source": [
    "#Q12. Write a program that demonstrates using multiple except blocks to handle different types of exceptions\n",
    "#Ans. Here’s a Python program demonstrating multiple except blocks to handle different exception types:\n",
    "try:\n",
    "    # Example code that may raise different exceptions\n",
    "    num1 = int(input(\"Enter a number: \"))\n",
    "    num2 = int(input(\"Enter another number: \"))\n",
    "    result = num1 / num2\n",
    "    print(\"Result:\", result)\n",
    "\n",
    "except ValueError:\n",
    "    print(\"Error: Invalid input. Please enter numeric values.\")\n",
    "\n",
    "except ZeroDivisionError:\n",
    "    print(\"Error: Cannot divide by zero.\")\n",
    "\n",
    "except Exception as e:\n",
    "    print(\"An unexpected error occurred:\", e)\n"
   ]
  },
  {
   "cell_type": "code",
   "execution_count": 79,
   "id": "4f3aaed0-e88f-4805-bea0-4f3b5f58fadf",
   "metadata": {},
   "outputs": [
    {
     "name": "stdout",
     "output_type": "stream",
     "text": [
      "Hello, world!This line will be added to the end.\n",
      "\n",
      "Hello, world!This line will be added to the end.\n",
      "\n"
     ]
    }
   ],
   "source": [
    "#Q13. How would you check if a file exists before attempting to read it in Python\n",
    "#Ans. You can check if a file exists before reading it using the os.path.exists() function from the os module or Path.exists() from pathlib.\n",
    "import os\n",
    "\n",
    "filename = 'example.txt'\n",
    "\n",
    "if os.path.exists(filename):\n",
    "    with open(filename, 'r') as file:\n",
    "        content = file.read()\n",
    "        print(content)\n",
    "else:\n",
    "    print(f\"The file '{filename}' does not exist.\")\n",
    "\n",
    "#* Using pathlib.Path.exists():\n",
    "from pathlib import Path\n",
    "\n",
    "file_path = Path('example.txt')\n",
    "\n",
    "if file_path.exists():\n",
    "    with open(file_path, 'r') as file:\n",
    "        content = file.read()\n",
    "        print(content)\n",
    "else:\n",
    "    print(f\"The file '{file_path}' does not exist.\")\n",
    "\n"
   ]
  },
  {
   "cell_type": "code",
   "execution_count": 81,
   "id": "336ead01-f152-4f76-8a6c-d0f439d3a414",
   "metadata": {},
   "outputs": [],
   "source": [
    "#Q14. Write a program that uses the logging module to log both informational and error messages\n",
    "#Ans. Here's a Python program that uses the logging module to log both informational and error messages:\n",
    "import logging\n",
    "\n",
    "# Configure logging to write to a file with a specific format\n",
    "logging.basicConfig(\n",
    "    filename='app.log',\n",
    "    level=logging.DEBUG,  # Capture all levels DEBUG and above\n",
    "    format='%(asctime)s - %(levelname)s - %(message)s'\n",
    ")\n",
    "\n",
    "# Log an informational message\n",
    "logging.info(\"Program started successfully.\")\n",
    "\n",
    "try:\n",
    "    # Simulate some code that could cause an error\n",
    "    x = 10\n",
    "    y = 0\n",
    "    result = x / y\n",
    "\n",
    "except ZeroDivisionError:\n",
    "    logging.error(\"Division by zero error occurred!\")\n",
    "\n",
    "else:\n",
    "    logging.info(f\"Division successful, result is {result}\")\n",
    "\n",
    "finally:\n",
    "    logging.info(\"Program ended.\")\n"
   ]
  },
  {
   "cell_type": "code",
   "execution_count": 83,
   "id": "054500b5-7b97-4032-914e-8919cba69051",
   "metadata": {},
   "outputs": [
    {
     "name": "stdout",
     "output_type": "stream",
     "text": [
      "File content:\n",
      "Hello, world!This line will be added to the end.\n",
      "\n"
     ]
    }
   ],
   "source": [
    "#Q15. Write a Python program that prints the content of a file and handles the case when the file is empty.\n",
    "#Ans. Here’s a Python program that prints the content of a file and handles the case when the file is empty:\n",
    "filename = 'example.txt'\n",
    "\n",
    "try:\n",
    "    with open(filename, 'r') as file:\n",
    "        content = file.read()\n",
    "\n",
    "        if content:\n",
    "            print(\"File content:\")\n",
    "            print(content)\n",
    "        else:\n",
    "            print(\"The file is empty.\")\n",
    "\n",
    "except FileNotFoundError:\n",
    "    print(f\"Error: The file '{filename}' does not exist.\")\n",
    "except Exception as e:\n",
    "    print(\"An unexpected error occurred:\", e)\n"
   ]
  },
  {
   "cell_type": "code",
   "execution_count": 85,
   "id": "17066c45-d449-48d0-a6f1-57b5d8039314",
   "metadata": {},
   "outputs": [
    {
     "ename": "SyntaxError",
     "evalue": "invalid syntax (3495665041.py, line 5)",
     "output_type": "error",
     "traceback": [
      "\u001b[1;36m  Cell \u001b[1;32mIn[85], line 5\u001b[1;36m\u001b[0m\n\u001b[1;33m    pip install memory_profiler\u001b[0m\n\u001b[1;37m        ^\u001b[0m\n\u001b[1;31mSyntaxError\u001b[0m\u001b[1;31m:\u001b[0m invalid syntax\n"
     ]
    }
   ],
   "source": [
    "#Q16. Demonstrate how to use memory profiling to check the memory usage of a small program.\n",
    "#Ans. To check memory usage of a Python program, you can use the memory_profiler module, which provides line-by-line memory usage.\n",
    "#* Steps to use memory_profiler:\n",
    "# Install the module (run this in your terminal or command prompt):\n",
    "pip install memory_profiler\n",
    "# Add a decorator to the function you want to profile and run the script with -m memory_profiler."
   ]
  },
  {
   "cell_type": "code",
   "execution_count": 1,
   "id": "0e569d32-c14f-4bf6-b8ec-299677d111d9",
   "metadata": {},
   "outputs": [
    {
     "name": "stdout",
     "output_type": "stream",
     "text": [
      "Numbers have been written to 'numbers.txt' successfully.\n"
     ]
    }
   ],
   "source": [
    "#Q17. Write a Python program to create and write a list of numbers to a file, one number per line.\n",
    "#Ans. Here is a simple Python program that creates a list of numbers and writes each number to a file, one per line:\n",
    "# List of numbers to write to the file\n",
    "numbers = [1, 2, 3, 4, 5, 6, 7, 8, 9, 10]\n",
    "\n",
    "# File to write to\n",
    "filename = 'numbers.txt'\n",
    "\n",
    "# Write numbers to the file\n",
    "with open(filename, 'w') as file:\n",
    "    for number in numbers:\n",
    "        file.write(f\"{number}\\n\")\n",
    "\n",
    "print(f\"Numbers have been written to '{filename}' successfully.\")\n"
   ]
  },
  {
   "cell_type": "code",
   "execution_count": 3,
   "id": "d74e2049-9114-4490-a71f-ecf09a12b660",
   "metadata": {},
   "outputs": [],
   "source": [
    "#Q18. How would you implement a basic logging setup that logs to a file with rotation after 1MB?\n",
    "#Ans. To implement a basic logging setup with file rotation after 1MB, use Python's logging module with RotatingFileHandler.\n",
    "import logging\n",
    "from logging.handlers import RotatingFileHandler\n",
    "\n",
    "# Create a logger\n",
    "logger = logging.getLogger(\"MyLogger\")\n",
    "logger.setLevel(logging.DEBUG)\n",
    "\n",
    "# Create a rotating file handler: rotate after 1MB, keep 3 backups\n",
    "handler = RotatingFileHandler(\n",
    "    \"my_app.log\", maxBytes=1 * 1024 * 1024, backupCount=3\n",
    ")\n",
    "\n",
    "# Create a formatter and attach it to the handler\n",
    "formatter = logging.Formatter('%(asctime)s - %(levelname)s - %(message)s')\n",
    "handler.setFormatter(formatter)\n",
    "\n",
    "# Add the handler to the logger\n",
    "logger.addHandler(handler)\n",
    "\n",
    "# Example log messages\n",
    "for i in range(10000):\n",
    "    logger.info(f\"This is log entry number {i}\")\n"
   ]
  },
  {
   "cell_type": "code",
   "execution_count": 5,
   "id": "fe97a3e9-0041-400f-be48-142b0158fa4b",
   "metadata": {},
   "outputs": [
    {
     "name": "stdout",
     "output_type": "stream",
     "text": [
      "IndexError: You tried to access an index that doesn't exist in the list.\n"
     ]
    }
   ],
   "source": [
    "#Q19. Write a program that handles both IndexError and KeyError using a try-except block.\n",
    "#Ans. Here's a Python program that demonstrates how to handle both IndexError and KeyError using a try-except block:\n",
    "# Sample list and dictionary\n",
    "my_list = [10, 20, 30]\n",
    "my_dict = {\"name\": \"Alice\", \"age\": 25}\n",
    "\n",
    "try:\n",
    "    # Attempt to access an invalid list index\n",
    "    print(\"List value:\", my_list[5])\n",
    "\n",
    "    # Attempt to access a missing dictionary key\n",
    "    print(\"City:\", my_dict[\"city\"])\n",
    "\n",
    "except IndexError:\n",
    "    print(\"IndexError: You tried to access an index that doesn't exist in the list.\")\n",
    "\n",
    "except KeyError:\n",
    "    print(\"KeyError: The key you're trying to access is not in the dictionary.\")\n",
    "\n",
    "except Exception as e:\n",
    "    print(\"An unexpected error occurred:\", e)\n"
   ]
  },
  {
   "cell_type": "code",
   "execution_count": 7,
   "id": "eb28d777-fd50-49dc-9340-d3f91b87b082",
   "metadata": {},
   "outputs": [
    {
     "name": "stdout",
     "output_type": "stream",
     "text": [
      "Hello, world!This line will be added to the end.\n",
      "\n"
     ]
    }
   ],
   "source": [
    "#Q20. How would you open a file and read its contents using a context manager in Python.\n",
    "#Ans. To open a file and read its contents using a context manager in Python, you use the with statement. This ensures that the file is automatically closed after the operation, even if an error occurs.\n",
    "filename = 'example.txt'\n",
    "\n",
    "try:\n",
    "    with open(filename, 'r') as file:\n",
    "        contents = file.read()\n",
    "        print(contents)\n",
    "except FileNotFoundError:\n",
    "    print(f\"Error: The file '{filename}' does not exist.\")\n"
   ]
  },
  {
   "cell_type": "code",
   "execution_count": 9,
   "id": "5ac64a92-fc07-4155-b687-27f803a5bd18",
   "metadata": {},
   "outputs": [
    {
     "name": "stdout",
     "output_type": "stream",
     "text": [
      "The word 'python' occurs 0 time(s) in 'example.txt'.\n"
     ]
    }
   ],
   "source": [
    "#Q21. Write a Python program that reads a file and prints the number of occurrences of a specific word.\n",
    "#Ans. Here's a Python program that reads a file and prints the number of occurrences of a specific word:\n",
    "def count_word_occurrences(filename, target_word):\n",
    "    try:\n",
    "        with open(filename, 'r') as file:\n",
    "            content = file.read()\n",
    "            \n",
    "            # Normalize text to lowercase and split into words\n",
    "            words = content.lower().split()\n",
    "            target_word = target_word.lower()\n",
    "            \n",
    "            # Count the occurrences\n",
    "            count = words.count(target_word)\n",
    "            \n",
    "            print(f\"The word '{target_word}' occurs {count} time(s) in '{filename}'.\")\n",
    "    \n",
    "    except FileNotFoundError:\n",
    "        print(f\"Error: The file '{filename}' was not found.\")\n",
    "    except Exception as e:\n",
    "        print(\"An error occurred:\", e)\n",
    "\n",
    "# Example usage\n",
    "count_word_occurrences(\"example.txt\", \"Python\")\n"
   ]
  },
  {
   "cell_type": "code",
   "execution_count": 11,
   "id": "21336111-f8cb-4121-89a8-40c919465d38",
   "metadata": {},
   "outputs": [
    {
     "name": "stdout",
     "output_type": "stream",
     "text": [
      "File content:\n",
      "Hello, world!This line will be added to the end.\n",
      "\n"
     ]
    }
   ],
   "source": [
    "#Q22. How can you check if a file is empty before attempting to read its contents?\n",
    "#Ans. You can check if a file is empty in Python using one of these common methods before reading its contents:\n",
    "#* Check file size using os.path.getsize():\n",
    "import os\n",
    "\n",
    "filename = 'example.txt'\n",
    "\n",
    "if os.path.exists(filename):\n",
    "    if os.path.getsize(filename) == 0:\n",
    "        print(\"The file is empty.\")\n",
    "    else:\n",
    "        with open(filename, 'r') as file:\n",
    "            content = file.read()\n",
    "            print(\"File content:\")\n",
    "            print(content)\n",
    "else:\n",
    "    print(f\"The file '{filename}' does not exist.\")\n"
   ]
  },
  {
   "cell_type": "code",
   "execution_count": 13,
   "id": "1e320a63-b2f2-4fba-9e82-2ff2f8180baf",
   "metadata": {},
   "outputs": [
    {
     "name": "stdout",
     "output_type": "stream",
     "text": [
      "An error occurred while reading 'nonexistent_file.txt'. Check 'file_errors.log' for details.\n"
     ]
    }
   ],
   "source": [
    "#Q23. Write a Python program that writes to a log file when an error occurs during file handling.\n",
    "#Ans. Here's a Python program that attempts to open a file and writes an error message to a log file if an exception occurs during file handling:\n",
    "import logging\n",
    "\n",
    "# Set up logging\n",
    "logging.basicConfig(\n",
    "    filename='file_errors.log',\n",
    "    level=logging.ERROR,\n",
    "    format='%(asctime)s - %(levelname)s - %(message)s'\n",
    ")\n",
    "\n",
    "def read_file(filename):\n",
    "    try:\n",
    "        with open(filename, 'r') as file:\n",
    "            contents = file.read()\n",
    "            print(\"File content:\\n\", contents)\n",
    "    except Exception as e:\n",
    "        logging.error(f\"Error reading file '{filename}': {e}\")\n",
    "        print(f\"An error occurred while reading '{filename}'. Check 'file_errors.log' for details.\")\n",
    "\n",
    "# Example usage\n",
    "read_file(\"nonexistent_file.txt\")\n"
   ]
  },
  {
   "cell_type": "code",
   "execution_count": null,
   "id": "d07376d4-48c6-4f49-a2be-ccb722535a7f",
   "metadata": {},
   "outputs": [],
   "source": []
  }
 ],
 "metadata": {
  "kernelspec": {
   "display_name": "Python [conda env:base] *",
   "language": "python",
   "name": "conda-base-py"
  },
  "language_info": {
   "codemirror_mode": {
    "name": "ipython",
    "version": 3
   },
   "file_extension": ".py",
   "mimetype": "text/x-python",
   "name": "python",
   "nbconvert_exporter": "python",
   "pygments_lexer": "ipython3",
   "version": "3.12.7"
  }
 },
 "nbformat": 4,
 "nbformat_minor": 5
}
